{
  "nbformat": 4,
  "nbformat_minor": 0,
  "metadata": {
    "colab": {
      "provenance": []
    },
    "kernelspec": {
      "name": "python3",
      "display_name": "Python 3"
    },
    "language_info": {
      "name": "python"
    }
  },
  "cells": [
    {
      "cell_type": "markdown",
      "source": [
        "Mariela Quintanar De la Mora A01642675\n",
        "\n",
        "Valeria Aispuro Gómez A01642923\n",
        "\n",
        "Alvaro Alejandro Cabañas Calvillo A01625742\n",
        "\n",
        "Elius Ivan González Campos A01620856\n",
        "\n",
        "Francisco Javier Romo Juárez A01643189\n"
      ],
      "metadata": {
        "id": "_2hbWgyE_jqh"
      }
    },
    {
      "cell_type": "markdown",
      "source": [
        "1. Carga los datos usando tu lector de csv o con pandas. Es recomendable hacerlo con pandas.\n",
        "2. Verifica la cantidad de datos que tienes, las variables que contiene cada vector de datos e identifica el tipo de variables.\n",
        "\n",
        "      La cantidad de datos en este csv son 10,000.\n",
        "\n",
        "      Las variables contenidas en cada vector son del tipo Dtype object para la variable 'Género', y Dtype float para las variables 'Estatura' y 'Peso'."
      ],
      "metadata": {
        "id": "Y5bm3iQG_g8v"
      }
    },
    {
      "cell_type": "code",
      "execution_count": null,
      "metadata": {
        "colab": {
          "base_uri": "https://localhost:8080/"
        },
        "id": "XJszv1vbnUcH",
        "outputId": "beffbfb4-e63d-4a30-baf9-57b010d6319a"
      },
      "outputs": [
        {
          "output_type": "stream",
          "name": "stdout",
          "text": [
            "<class 'pandas.core.frame.DataFrame'>\n",
            "RangeIndex: 10000 entries, 0 to 9999\n",
            "Data columns (total 3 columns):\n",
            " #   Column    Non-Null Count  Dtype  \n",
            "---  ------    --------------  -----  \n",
            " 0   Genero    10000 non-null  object \n",
            " 1   Estatura  10000 non-null  float64\n",
            " 2   Peso      10000 non-null  float64\n",
            "dtypes: float64(2), object(1)\n",
            "memory usage: 234.5+ KB\n",
            "None\n"
          ]
        }
      ],
      "source": [
        "import pandas as pd\n",
        "\n",
        "df = pd.read_csv('peso_estatura_genero.csv')\n",
        "df.Estatura = df.Estatura*2.54\n",
        "df.Peso = df.Peso/2.2\n",
        "print(df.info())"
      ]
    },
    {
      "cell_type": "markdown",
      "source": [
        "3. Analiza las variables para saber que representa cada una y en que rangos se encuentran.\n",
        "Si la descripción del problema no te lo indica, utiliza el máximo y el mínimo para encontrarlo."
      ],
      "metadata": {
        "id": "ozNURiiP_BDQ"
      }
    },
    {
      "cell_type": "code",
      "source": [
        "filtro_min = df[(df['Estatura'] < 150) & (df['Peso'] < 30)]\n",
        "print(filtro_min.describe())\n",
        "print(filtro_min)"
      ],
      "metadata": {
        "colab": {
          "base_uri": "https://localhost:8080/"
        },
        "id": "D9eK94CxoGjz",
        "outputId": "84f1c055-4b8f-46c9-c419-fc7890c2541d"
      },
      "execution_count": null,
      "outputs": [
        {
          "output_type": "stream",
          "name": "stdout",
          "text": [
            "         Estatura       Peso\n",
            "count    1.000000   1.000000\n",
            "mean   137.828359  29.409149\n",
            "std           NaN        NaN\n",
            "min    137.828359  29.409149\n",
            "25%    137.828359  29.409149\n",
            "50%    137.828359  29.409149\n",
            "75%    137.828359  29.409149\n",
            "max    137.828359  29.409149\n",
            "      Genero    Estatura       Peso\n",
            "9285  Female  137.828359  29.409149\n"
          ]
        }
      ]
    },
    {
      "cell_type": "code",
      "source": [
        "filtro_max = df[(df['Estatura'] > 200) & (df['Peso'] < 200)]\n",
        "print(filtro_max.describe())\n",
        "print(filtro_max)"
      ],
      "metadata": {
        "colab": {
          "base_uri": "https://localhost:8080/"
        },
        "id": "JGyKLrKQJruK",
        "outputId": "0f78b5b2-803e-4b5e-f3f4-ff091192e65f"
      },
      "execution_count": null,
      "outputs": [
        {
          "output_type": "stream",
          "name": "stdout",
          "text": [
            "         Estatura       Peso\n",
            "count    1.000000    1.00000\n",
            "mean   200.656806  122.72259\n",
            "std           NaN        NaN\n",
            "min    200.656806  122.72259\n",
            "25%    200.656806  122.72259\n",
            "50%    200.656806  122.72259\n",
            "75%    200.656806  122.72259\n",
            "max    200.656806  122.72259\n",
            "     Genero    Estatura       Peso\n",
            "2014   Male  200.656806  122.72259\n"
          ]
        }
      ]
    },
    {
      "cell_type": "markdown",
      "source": [
        "En la variable 'Estatura' el rango es de 137.828359 a 200.656806\n",
        "y en la variable 'Peso' el rango es de 29.409149 a 122.72259."
      ],
      "metadata": {
        "id": "U_24JJRDoSAy"
      }
    },
    {
      "cell_type": "code",
      "source": [
        "import numpy as np\n",
        "\n",
        "# promedio de estatura\n",
        "media_e = df['Estatura'].mean()\n",
        "print('La media de estaturas es', media_e)\n",
        "\n",
        "# mediana de estatura\n",
        "mediana_e = df['Estatura'].median()\n",
        "print('La mediana de estaturas es', mediana_e)\n",
        "\n",
        "# desviación estandar de estatura\n",
        "std_e = df['Estatura'].std()\n",
        "print('La desviación estándar de estaturas es', std_e)\n",
        "\n",
        "print()\n",
        "\n",
        "# promedio de peso\n",
        "media_p = (df['Peso'].mean())\n",
        "print('La media de pesos es', media_p)\n",
        "\n",
        "# mediana de peso\n",
        "mediana_p = (df['Peso'].median())\n",
        "print('La mediana de pesos es', mediana_p)\n",
        "\n",
        "# desviación estandar de peso\n",
        "std_p = (df['Peso'].std())\n",
        "print('La desviación estándar de pesos es', std_p)\n",
        "\n",
        "\n",
        "# df.groupby(['Estatura']).mean()\n"
      ],
      "metadata": {
        "colab": {
          "base_uri": "https://localhost:8080/"
        },
        "id": "CmJxiZhpoKSz",
        "outputId": "54fc429c-1fdb-4924-bb0f-c6be2aebb3b6"
      },
      "execution_count": null,
      "outputs": [
        {
          "output_type": "stream",
          "name": "stdout",
          "text": [
            "La media de estaturas es 168.57360177735967\n",
            "La mediana de estaturas es 168.4478980032\n",
            "La desviación estándar de estaturas es 9.772721426820755\n",
            "\n",
            "La media de pesos es 73.38198037883181\n",
            "La mediana de pesos es 73.2786035\n",
            "La desviación estándar de pesos es 14.594745003197938\n"
          ]
        }
      ]
    },
    {
      "cell_type": "code",
      "source": [
        "# Media recortada\n",
        "sorted_df = df['Estatura'].sort_values()\n",
        "sorted_df = sorted_df.reset_index(drop = True)\n",
        "print()\n",
        "\n",
        "p = 50\n",
        "sum = 0\n",
        "for i in range(p, len(sorted_df)-p):\n",
        "  sum += sorted_df[i]\n",
        "mean_recort = sum / (len(sorted_df)-(2*p))\n",
        "print(mean_recort)"
      ],
      "metadata": {
        "colab": {
          "base_uri": "https://localhost:8080/"
        },
        "id": "pKQ0U8R9F4NC",
        "outputId": "5d60cab1-7eda-4baf-8587-1e37aeedd00d"
      },
      "execution_count": null,
      "outputs": [
        {
          "output_type": "stream",
          "name": "stdout",
          "text": [
            "\n",
            "168.5684197802665\n"
          ]
        }
      ]
    },
    {
      "cell_type": "markdown",
      "source": [
        "4. Basándose en la media, mediana y desviación estándar de cada variable, que conclusiones puedes entregar de los datos.\n",
        "\n",
        "   De los datos anteriores podemos concluir que la estatura y el peso máximo pertenece a un hombre y la estatura y el peso mínimo pertenecen a una mujer.\n",
        "\n",
        "   La media del peso y estatura nos proporciono una idea de cuál es el peso y estatura promedio en el conjunto de datos.  Utilizando el Índice de Masa Corporal (IMC) y basándonos en las medias de estatura (168.57) y peso (73.38), podemos concluir que la mayoría de los individuos en el archivo CSV se encuentran en la categoría de sobrepeso.\n",
        "\n",
        "   La mediana del peso y estatura es similar a la media, esto quiere decir que los datos de peso y estatura están distribuidos de manera simétrica.\n",
        "\n",
        "   La desviación estándar en estaturas es baja lo que indica que existe una mayor uniformidad en las estaturas mientra que en los pesos la desviación estandar es un poco más elevada lo indica una mayor variabilidad en los pesos."
      ],
      "metadata": {
        "id": "Tc3INpSP_vFa"
      }
    }
  ]
}